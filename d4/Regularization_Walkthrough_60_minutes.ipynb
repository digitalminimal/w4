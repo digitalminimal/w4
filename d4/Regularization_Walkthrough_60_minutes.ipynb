{
  "nbformat": 4,
  "nbformat_minor": 0,
  "metadata": {
    "colab": {
      "name": "Regularization Walkthrough 60 minutes.ipynb",
      "provenance": [],
      "collapsed_sections": [],
      "authorship_tag": "ABX9TyPqzr+LuTV2mV4zrjuCLV6k",
      "include_colab_link": true
    },
    "kernelspec": {
      "name": "python3",
      "display_name": "Python 3"
    },
    "language_info": {
      "name": "python"
    }
  },
  "cells": [
    {
      "cell_type": "markdown",
      "metadata": {
        "id": "view-in-github",
        "colab_type": "text"
      },
      "source": [
        "<a href=\"https://colab.research.google.com/github/digitalminimal/w4/blob/main/d4/Regularization_Walkthrough_60_minutes.ipynb\" target=\"_parent\"><img src=\"https://colab.research.google.com/assets/colab-badge.svg\" alt=\"Open In Colab\"/></a>"
      ]
    },
    {
      "cell_type": "code",
      "metadata": {
        "colab": {
          "base_uri": "https://localhost:8080/",
          "height": 608
        },
        "id": "qkIpPlc-Oz8X",
        "outputId": "15c1c785-b054-4804-8569-c21acbdf2c3b"
      },
      "source": [
        "#Importing libraries. The same will be used throughout the article.\n",
        "import numpy as np\n",
        "import pandas as pd\n",
        "import random\n",
        "import matplotlib.pyplot as plt\n",
        "%matplotlib inline\n",
        "from matplotlib.pylab import rcParams\n",
        "rcParams['figure.figsize'] = 12, 10\n",
        "\n",
        "#Define input array with angles from 60deg to 300deg converted to radians\n",
        "x = np.array([i*np.pi/180 for i in range(60,300,4)])\n",
        "np.random.seed(10)  #Setting seed for reproducibility\n",
        "y = np.sin(x) + np.random.normal(0,0.15,len(x))\n",
        "data = pd.DataFrame(np.column_stack([x,y]),columns=['x','y'])\n",
        "plt.plot(data['x'],data['y'],'.')"
      ],
      "execution_count": null,
      "outputs": [
        {
          "output_type": "execute_result",
          "data": {
            "text/plain": [
              "[<matplotlib.lines.Line2D at 0x7f7acb2d5e50>]"
            ]
          },
          "metadata": {},
          "execution_count": 1
        },
        {
          "output_type": "display_data",
          "data": {
            "image/png": "[encoded data removed]",
            "text/plain": [
              "<Figure size 864x720 with 1 Axes>"
            ]
          },
          "metadata": {
            "needs_background": "light"
          }
        }
      ]
    },
    {
      "cell_type": "markdown",
      "metadata": {
        "id": "H2wSbKz3PEqL"
      },
      "source": [
        "his resembles a sine curve but not exactly because of the noise. We’ll use this as an example to test different scenarios in this article. Let’s try to estimate the sine function using polynomial regression with powers of x from 1 to 15. Let’s add a column for each power upto 15 in our dataframe. This can be accomplished using the following code:"
      ]
    },
    {
      "cell_type": "code",
      "metadata": {
        "colab": {
          "base_uri": "https://localhost:8080/"
        },
        "id": "G_5D6rweO_C0",
        "outputId": "be9ae9fb-978a-412f-a117-c02a1700d873"
      },
      "source": [
        "for i in range(2,16):  #power of 1 is already there\n",
        "    colname = 'x_%d'%i      #new var will be x_power\n",
        "    data[colname] = data['x']**i\n",
        "print(data.head())"
      ],
      "execution_count": null,
      "outputs": [
        {
          "output_type": "stream",
          "name": "stdout",
          "text": [
            "          x         y       x_2  ...       x_13       x_14       x_15\n",
            "0  1.047198  1.065763  1.096623  ...   1.821260   1.907219   1.997235\n",
            "1  1.117011  1.006086  1.247713  ...   4.214494   4.707635   5.258479\n",
            "2  1.186824  0.695374  1.408551  ...   9.268760  11.000386  13.055521\n",
            "3  1.256637  0.949799  1.579137  ...  19.486248  24.487142  30.771450\n",
            "4  1.326450  1.063496  1.759470  ...  39.353420  52.200353  69.241170\n",
            "\n",
            "[5 rows x 16 columns]\n"
          ]
        }
      ]
    },
    {
      "cell_type": "code",
      "metadata": {
        "id": "BAWbgKylPJfY"
      },
      "source": [
        ""
      ],
      "execution_count": null,
      "outputs": []
    },
    {
      "cell_type": "markdown",
      "metadata": {
        "id": "X7sINy7EPKaJ"
      },
      "source": [
        "Now that we have all the 15 powers, let’s make 15 different linear regression models with each model containing variables with powers of x from 1 to the particular model number. For example, the feature set of model 8 will be – {x, x_2, x_3, … ,x_8}.\n",
        "\n",
        "First, we’ll define a generic function which takes in the required maximum power of x as an input and returns a list containing – [ model RSS, intercept, coef_x, coef_x2, … upto entered power ]. Here RSS refers to ‘Residual Sum of Squares’ which is nothing but the sum of square of errors between the predicted and actual values in the training data set. The python code defining the function is:"
      ]
    },
    {
      "cell_type": "code",
      "metadata": {
        "id": "h02-mdZJPLBm"
      },
      "source": [
        "#Import Linear Regression model from scikit-learn.\n",
        "from sklearn.linear_model import LinearRegression\n",
        "def linear_regression(data, power, models_to_plot):\n",
        "    #initialize predictors:\n",
        "    predictors=['x']\n",
        "    if power>=2:\n",
        "        predictors.extend(['x_%d'%i for i in range(2,power+1)])\n",
        "    \n",
        "    #Fit the model\n",
        "    linreg = LinearRegression(normalize=True)\n",
        "    linreg.fit(data[predictors],data['y'])\n",
        "    y_pred = linreg.predict(data[predictors])\n",
        "    \n",
        "    #Check if a plot is to be made for the entered power\n",
        "    if power in models_to_plot:\n",
        "        plt.subplot(models_to_plot[power])\n",
        "        plt.tight_layout()\n",
        "        plt.plot(data['x'],y_pred)\n",
        "        plt.plot(data['x'],data['y'],'.')\n",
        "        plt.title('Plot for power: %d'%power)\n",
        "    \n",
        "    #Return the result in pre-defined format\n",
        "    rss = sum((y_pred-data['y'])**2)\n",
        "    ret = [rss]\n",
        "    ret.extend([linreg.intercept_])\n",
        "    ret.extend(linreg.coef_)\n",
        "    return ret"
      ],
      "execution_count": null,
      "outputs": []
    },
    {
      "cell_type": "code",
      "metadata": {
        "id": "atT_Far7GH50"
      },
      "source": [
        ""
      ],
      "execution_count": null,
      "outputs": []
    },
    {
      "cell_type": "code",
      "metadata": {
        "colab": {
          "base_uri": "https://localhost:8080/",
          "height": 296
        },
        "id": "iPXi44vGPazw",
        "outputId": "ac766898-b2aa-4192-80fa-91fd15f2587a"
      },
      "source": [
        "#Initialize a dataframe to store the results:\n",
        "col = ['rss','intercept'] + ['coef_x_%d'%i for i in range(1,16)]\n",
        "ind = ['model_pow_%d'%i for i in range(1,16)]\n",
        "coef_matrix_simple = pd.DataFrame(index=ind, columns=col)\n",
        "\n",
        "#Define the powers for which a plot is required:\n",
        "models_to_plot = {1:231,3:232,6:233,9:234,12:235,15:236}\n",
        "\n",
        "#Iterate through all powers and assimilate results\n",
        "for i in range(1,16):\n",
        "    coef_matrix_simple.iloc[i-1,0:i+2] = linear_regression(data, power=i, models_to_plot=models_to_plot)\n",
        " \n",
        "\n"
      ],
      "execution_count": null,
      "outputs": [
        {
          "output_type": "display_data",
          "data": {
            "image/png": "[encoded data removed]",
            "text/plain": [
              "<Figure size 432x288 with 6 Axes>"
            ]
          },
          "metadata": {
            "needs_background": "light"
          }
        }
      ]
    },
    {
      "cell_type": "code",
      "metadata": {
        "id": "qK2DFvXpGlTi"
      },
      "source": [
        ""
      ],
      "execution_count": null,
      "outputs": []
    },
    {
      "cell_type": "code",
      "metadata": {
        "colab": {
          "base_uri": "https://localhost:8080/",
          "height": 524
        },
        "id": "LrRJDTqFPi3k",
        "outputId": "d606d8d3-0cf5-4413-cff6-8907653c5160"
      },
      "source": [
        "#Set the display format to be scientific for ease of analysis\n",
        "pd.options.display.float_format = '{:,.2g}'.format\n",
        "coef_matrix_simple"
      ],
      "execution_count": null,
      "outputs": [
        {
          "output_type": "execute_result",
          "data": {
            "text/html": [
              "<div>\n",
              "<style scoped>\n",
              "    .dataframe tbody tr th:only-of-type {\n",
              "        vertical-align: middle;\n",
              "    }\n",
              "\n",
              "    .dataframe tbody tr th {\n",
              "        vertical-align: top;\n",
              "    }\n",
              "\n",
              "    .dataframe thead th {\n",
              "        text-align: right;\n",
              "    }\n",
              "</style>\n",
              "<table border=\"1\" class=\"dataframe\">\n",
              "  <thead>\n",
              "    <tr style=\"text-align: right;\">\n",
              "      <th></th>\n",
              "      <th>rss</th>\n",
              "      <th>intercept</th>\n",
              "      <th>coef_x_1</th>\n",
              "      <th>coef_x_2</th>\n",
              "      <th>coef_x_3</th>\n",
              "      <th>coef_x_4</th>\n",
              "      <th>coef_x_5</th>\n",
              "      <th>coef_x_6</th>\n",
              "      <th>coef_x_7</th>\n",
              "      <th>coef_x_8</th>\n",
              "      <th>coef_x_9</th>\n",
              "      <th>coef_x_10</th>\n",
              "      <th>coef_x_11</th>\n",
              "      <th>coef_x_12</th>\n",
              "      <th>coef_x_13</th>\n",
              "      <th>coef_x_14</th>\n",
              "      <th>coef_x_15</th>\n",
              "    </tr>\n",
              "  </thead>\n",
              "  <tbody>\n",
              "    <tr>\n",
              "      <th>model_pow_1</th>\n",
              "      <td>3.3</td>\n",
              "      <td>2</td>\n",
              "      <td>-0.62</td>\n",
              "      <td>NaN</td>\n",
              "      <td>NaN</td>\n",
              "      <td>NaN</td>\n",
              "      <td>NaN</td>\n",
              "      <td>NaN</td>\n",
              "      <td>NaN</td>\n",
              "      <td>NaN</td>\n",
              "      <td>NaN</td>\n",
              "      <td>NaN</td>\n",
              "      <td>NaN</td>\n",
              "      <td>NaN</td>\n",
              "      <td>NaN</td>\n",
              "      <td>NaN</td>\n",
              "      <td>NaN</td>\n",
              "    </tr>\n",
              "    <tr>\n",
              "      <th>model_pow_2</th>\n",
              "      <td>3.3</td>\n",
              "      <td>1.9</td>\n",
              "      <td>-0.58</td>\n",
              "      <td>-0.006</td>\n",
              "      <td>NaN</td>\n",
              "      <td>NaN</td>\n",
              "      <td>NaN</td>\n",
              "      <td>NaN</td>\n",
              "      <td>NaN</td>\n",
              "      <td>NaN</td>\n",
              "      <td>NaN</td>\n",
              "      <td>NaN</td>\n",
              "      <td>NaN</td>\n",
              "      <td>NaN</td>\n",
              "      <td>NaN</td>\n",
              "      <td>NaN</td>\n",
              "      <td>NaN</td>\n",
              "    </tr>\n",
              "    <tr>\n",
              "      <th>model_pow_3</th>\n",
              "      <td>1.1</td>\n",
              "      <td>-1.1</td>\n",
              "      <td>3</td>\n",
              "      <td>-1.3</td>\n",
              "      <td>0.14</td>\n",
              "      <td>NaN</td>\n",
              "      <td>NaN</td>\n",
              "      <td>NaN</td>\n",
              "      <td>NaN</td>\n",
              "      <td>NaN</td>\n",
              "      <td>NaN</td>\n",
              "      <td>NaN</td>\n",
              "      <td>NaN</td>\n",
              "      <td>NaN</td>\n",
              "      <td>NaN</td>\n",
              "      <td>NaN</td>\n",
              "      <td>NaN</td>\n",
              "    </tr>\n",
              "    <tr>\n",
              "      <th>model_pow_4</th>\n",
              "      <td>1.1</td>\n",
              "      <td>-0.27</td>\n",
              "      <td>1.7</td>\n",
              "      <td>-0.53</td>\n",
              "      <td>-0.036</td>\n",
              "      <td>0.014</td>\n",
              "      <td>NaN</td>\n",
              "      <td>NaN</td>\n",
              "      <td>NaN</td>\n",
              "      <td>NaN</td>\n",
              "      <td>NaN</td>\n",
              "      <td>NaN</td>\n",
              "      <td>NaN</td>\n",
              "      <td>NaN</td>\n",
              "      <td>NaN</td>\n",
              "      <td>NaN</td>\n",
              "      <td>NaN</td>\n",
              "    </tr>\n",
              "    <tr>\n",
              "      <th>model_pow_5</th>\n",
              "      <td>1</td>\n",
              "      <td>3</td>\n",
              "      <td>-5.1</td>\n",
              "      <td>4.7</td>\n",
              "      <td>-1.9</td>\n",
              "      <td>0.33</td>\n",
              "      <td>-0.021</td>\n",
              "      <td>NaN</td>\n",
              "      <td>NaN</td>\n",
              "      <td>NaN</td>\n",
              "      <td>NaN</td>\n",
              "      <td>NaN</td>\n",
              "      <td>NaN</td>\n",
              "      <td>NaN</td>\n",
              "      <td>NaN</td>\n",
              "      <td>NaN</td>\n",
              "      <td>NaN</td>\n",
              "    </tr>\n",
              "    <tr>\n",
              "      <th>model_pow_6</th>\n",
              "      <td>0.99</td>\n",
              "      <td>-2.8</td>\n",
              "      <td>9.5</td>\n",
              "      <td>-9.7</td>\n",
              "      <td>5.2</td>\n",
              "      <td>-1.6</td>\n",
              "      <td>0.23</td>\n",
              "      <td>-0.014</td>\n",
              "      <td>NaN</td>\n",
              "      <td>NaN</td>\n",
              "      <td>NaN</td>\n",
              "      <td>NaN</td>\n",
              "      <td>NaN</td>\n",
              "      <td>NaN</td>\n",
              "      <td>NaN</td>\n",
              "      <td>NaN</td>\n",
              "      <td>NaN</td>\n",
              "    </tr>\n",
              "    <tr>\n",
              "      <th>model_pow_7</th>\n",
              "      <td>0.93</td>\n",
              "      <td>19</td>\n",
              "      <td>-56</td>\n",
              "      <td>69</td>\n",
              "      <td>-45</td>\n",
              "      <td>17</td>\n",
              "      <td>-3.5</td>\n",
              "      <td>0.4</td>\n",
              "      <td>-0.019</td>\n",
              "      <td>NaN</td>\n",
              "      <td>NaN</td>\n",
              "      <td>NaN</td>\n",
              "      <td>NaN</td>\n",
              "      <td>NaN</td>\n",
              "      <td>NaN</td>\n",
              "      <td>NaN</td>\n",
              "      <td>NaN</td>\n",
              "    </tr>\n",
              "    <tr>\n",
              "      <th>model_pow_8</th>\n",
              "      <td>0.92</td>\n",
              "      <td>43</td>\n",
              "      <td>-1.4e+02</td>\n",
              "      <td>1.8e+02</td>\n",
              "      <td>-1.3e+02</td>\n",
              "      <td>58</td>\n",
              "      <td>-15</td>\n",
              "      <td>2.4</td>\n",
              "      <td>-0.21</td>\n",
              "      <td>0.0077</td>\n",
              "      <td>NaN</td>\n",
              "      <td>NaN</td>\n",
              "      <td>NaN</td>\n",
              "      <td>NaN</td>\n",
              "      <td>NaN</td>\n",
              "      <td>NaN</td>\n",
              "      <td>NaN</td>\n",
              "    </tr>\n",
              "    <tr>\n",
              "      <th>model_pow_9</th>\n",
              "      <td>0.87</td>\n",
              "      <td>1.7e+02</td>\n",
              "      <td>-6.1e+02</td>\n",
              "      <td>9.6e+02</td>\n",
              "      <td>-8.5e+02</td>\n",
              "      <td>4.6e+02</td>\n",
              "      <td>-1.6e+02</td>\n",
              "      <td>37</td>\n",
              "      <td>-5.2</td>\n",
              "      <td>0.42</td>\n",
              "      <td>-0.015</td>\n",
              "      <td>NaN</td>\n",
              "      <td>NaN</td>\n",
              "      <td>NaN</td>\n",
              "      <td>NaN</td>\n",
              "      <td>NaN</td>\n",
              "      <td>NaN</td>\n",
              "    </tr>\n",
              "    <tr>\n",
              "      <th>model_pow_10</th>\n",
              "      <td>0.87</td>\n",
              "      <td>1.4e+02</td>\n",
              "      <td>-4.9e+02</td>\n",
              "      <td>7.3e+02</td>\n",
              "      <td>-6e+02</td>\n",
              "      <td>2.9e+02</td>\n",
              "      <td>-87</td>\n",
              "      <td>15</td>\n",
              "      <td>-0.81</td>\n",
              "      <td>-0.14</td>\n",
              "      <td>0.026</td>\n",
              "      <td>-0.0013</td>\n",
              "      <td>NaN</td>\n",
              "      <td>NaN</td>\n",
              "      <td>NaN</td>\n",
              "      <td>NaN</td>\n",
              "      <td>NaN</td>\n",
              "    </tr>\n",
              "    <tr>\n",
              "      <th>model_pow_11</th>\n",
              "      <td>0.87</td>\n",
              "      <td>-75</td>\n",
              "      <td>5.1e+02</td>\n",
              "      <td>-1.3e+03</td>\n",
              "      <td>1.9e+03</td>\n",
              "      <td>-1.6e+03</td>\n",
              "      <td>9.1e+02</td>\n",
              "      <td>-3.5e+02</td>\n",
              "      <td>91</td>\n",
              "      <td>-16</td>\n",
              "      <td>1.8</td>\n",
              "      <td>-0.12</td>\n",
              "      <td>0.0034</td>\n",
              "      <td>NaN</td>\n",
              "      <td>NaN</td>\n",
              "      <td>NaN</td>\n",
              "      <td>NaN</td>\n",
              "    </tr>\n",
              "    <tr>\n",
              "      <th>model_pow_12</th>\n",
              "      <td>0.87</td>\n",
              "      <td>-3.4e+02</td>\n",
              "      <td>1.9e+03</td>\n",
              "      <td>-4.4e+03</td>\n",
              "      <td>6e+03</td>\n",
              "      <td>-5.2e+03</td>\n",
              "      <td>3.1e+03</td>\n",
              "      <td>-1.3e+03</td>\n",
              "      <td>3.8e+02</td>\n",
              "      <td>-80</td>\n",
              "      <td>12</td>\n",
              "      <td>-1.1</td>\n",
              "      <td>0.062</td>\n",
              "      <td>-0.0016</td>\n",
              "      <td>NaN</td>\n",
              "      <td>NaN</td>\n",
              "      <td>NaN</td>\n",
              "    </tr>\n",
              "    <tr>\n",
              "      <th>model_pow_13</th>\n",
              "      <td>0.86</td>\n",
              "      <td>3.2e+03</td>\n",
              "      <td>-1.8e+04</td>\n",
              "      <td>4.5e+04</td>\n",
              "      <td>-6.7e+04</td>\n",
              "      <td>6.6e+04</td>\n",
              "      <td>-4.6e+04</td>\n",
              "      <td>2.3e+04</td>\n",
              "      <td>-8.5e+03</td>\n",
              "      <td>2.3e+03</td>\n",
              "      <td>-4.5e+02</td>\n",
              "      <td>62</td>\n",
              "      <td>-5.7</td>\n",
              "      <td>0.31</td>\n",
              "      <td>-0.0078</td>\n",
              "      <td>NaN</td>\n",
              "      <td>NaN</td>\n",
              "    </tr>\n",
              "    <tr>\n",
              "      <th>model_pow_14</th>\n",
              "      <td>0.79</td>\n",
              "      <td>2.4e+04</td>\n",
              "      <td>-1.4e+05</td>\n",
              "      <td>3.8e+05</td>\n",
              "      <td>-6.1e+05</td>\n",
              "      <td>6.6e+05</td>\n",
              "      <td>-5e+05</td>\n",
              "      <td>2.8e+05</td>\n",
              "      <td>-1.2e+05</td>\n",
              "      <td>3.7e+04</td>\n",
              "      <td>-8.5e+03</td>\n",
              "      <td>1.5e+03</td>\n",
              "      <td>-1.8e+02</td>\n",
              "      <td>15</td>\n",
              "      <td>-0.73</td>\n",
              "      <td>0.017</td>\n",
              "      <td>NaN</td>\n",
              "    </tr>\n",
              "    <tr>\n",
              "      <th>model_pow_15</th>\n",
              "      <td>0.7</td>\n",
              "      <td>-3.6e+04</td>\n",
              "      <td>2.4e+05</td>\n",
              "      <td>-7.5e+05</td>\n",
              "      <td>1.4e+06</td>\n",
              "      <td>-1.7e+06</td>\n",
              "      <td>1.5e+06</td>\n",
              "      <td>-1e+06</td>\n",
              "      <td>5e+05</td>\n",
              "      <td>-1.9e+05</td>\n",
              "      <td>5.4e+04</td>\n",
              "      <td>-1.2e+04</td>\n",
              "      <td>1.9e+03</td>\n",
              "      <td>-2.2e+02</td>\n",
              "      <td>17</td>\n",
              "      <td>-0.81</td>\n",
              "      <td>0.018</td>\n",
              "    </tr>\n",
              "  </tbody>\n",
              "</table>\n",
              "</div>"
            ],
            "text/plain": [
              "              rss intercept coef_x_1  ... coef_x_13 coef_x_14 coef_x_15\n",
              "model_pow_1   3.3         2    -0.62  ...       NaN       NaN       NaN\n",
              "model_pow_2   3.3       1.9    -0.58  ...       NaN       NaN       NaN\n",
              "model_pow_3   1.1      -1.1        3  ...       NaN       NaN       NaN\n",
              "model_pow_4   1.1     -0.27      1.7  ...       NaN       NaN       NaN\n",
              "model_pow_5     1         3     -5.1  ...       NaN       NaN       NaN\n",
              "model_pow_6  0.99      -2.8      9.5  ...       NaN       NaN       NaN\n",
              "model_pow_7  0.93        19      -56  ...       NaN       NaN       NaN\n",
              "model_pow_8  0.92        43 -1.4e+02  ...       NaN       NaN       NaN\n",
              "model_pow_9  0.87   1.7e+02 -6.1e+02  ...       NaN       NaN       NaN\n",
              "model_pow_10 0.87   1.4e+02 -4.9e+02  ...       NaN       NaN       NaN\n",
              "model_pow_11 0.87       -75  5.1e+02  ...       NaN       NaN       NaN\n",
              "model_pow_12 0.87  -3.4e+02  1.9e+03  ...       NaN       NaN       NaN\n",
              "model_pow_13 0.86   3.2e+03 -1.8e+04  ...   -0.0078       NaN       NaN\n",
              "model_pow_14 0.79   2.4e+04 -1.4e+05  ...     -0.73     0.017       NaN\n",
              "model_pow_15  0.7  -3.6e+04  2.4e+05  ...        17     -0.81     0.018\n",
              "\n",
              "[15 rows x 17 columns]"
            ]
          },
          "metadata": {},
          "execution_count": 17
        }
      ]
    },
    {
      "cell_type": "code",
      "metadata": {
        "id": "EaFCOyyZPoGU"
      },
      "source": [
        "from sklearn.linear_model import Ridge\n",
        "def ridge_regression(data, predictors, alpha, models_to_plot={}):\n",
        "    #Fit the model\n",
        "    ridgereg = Ridge(alpha=alpha,normalize=True)\n",
        "    ridgereg.fit(data[predictors],data['y'])\n",
        "    y_pred = ridgereg.predict(data[predictors])\n",
        "    \n",
        "    #Check if a plot is to be made for the entered alpha\n",
        "    if alpha in models_to_plot:\n",
        "        plt.subplot(models_to_plot[alpha])\n",
        "        plt.tight_layout()\n",
        "        plt.plot(data['x'],y_pred)\n",
        "        plt.plot(data['x'],data['y'],'.')\n",
        "        plt.title('Plot for alpha: %.3g'%alpha)\n",
        "    \n",
        "    #Return the result in pre-defined format\n",
        "    rss = sum((y_pred-data['y'])**2)\n",
        "    ret = [rss]\n",
        "    ret.extend([ridgereg.intercept_])\n",
        "    ret.extend(ridgereg.coef_)\n",
        "    return ret"
      ],
      "execution_count": null,
      "outputs": []
    },
    {
      "cell_type": "code",
      "metadata": {
        "colab": {
          "base_uri": "https://localhost:8080/",
          "height": 349
        },
        "id": "15YujouaPsMj",
        "outputId": "9ea9ae22-f0b2-47fa-e5b3-c5445ddc64f1"
      },
      "source": [
        "#Initialize predictors to be set of 15 powers of x\n",
        "predictors=['x']\n",
        "predictors.extend(['x_%d'%i for i in range(2,16)])\n",
        "\n",
        "#Set the different values of alpha to be tested\n",
        "alpha_ridge = [1e-15, 1e-10, 1e-8, 1e-4, 1e-3,1e-2, 1, 5, 10, 20]\n",
        "\n",
        "#Initialize the dataframe for storing coefficients.\n",
        "col = ['rss','intercept'] + ['coef_x_%d'%i for i in range(1,16)]\n",
        "ind = ['alpha_%.2g'%alpha_ridge[i] for i in range(0,10)]\n",
        "coef_matrix_ridge = pd.DataFrame(index=ind, columns=col)\n",
        "\n",
        "models_to_plot = {1e-15:231, 1e-10:232, 1e-4:233, 1e-3:234, 1e-2:235, 5:236}\n",
        "for i in range(10):\n",
        "    coef_matrix_ridge.iloc[i,] = ridge_regression(data, predictors, alpha_ridge[i], models_to_plot)\n"
      ],
      "execution_count": null,
      "outputs": [
        {
          "output_type": "stream",
          "name": "stderr",
          "text": [
            "/usr/local/lib/python3.7/dist-packages/sklearn/linear_model/_ridge.py:148: LinAlgWarning: Ill-conditioned matrix (rcond=3.81609e-17): result may not be accurate.\n",
            "  overwrite_a=True).T\n"
          ]
        },
        {
          "output_type": "display_data",
          "data": {
            "image/png": "[encoded data removed]",
            "text/plain": [
              "<Figure size 432x288 with 6 Axes>"
            ]
          },
          "metadata": {
            "needs_background": "light"
          }
        }
      ]
    },
    {
      "cell_type": "code",
      "metadata": {
        "colab": {
          "base_uri": "https://localhost:8080/",
          "height": 372
        },
        "id": "TYQnN-EHPvKY",
        "outputId": "eeadc5e8-8a42-4985-8e09-ddc46d84ad25"
      },
      "source": [
        "#Set the display format to be scientific for ease of analysis\n",
        "pd.options.display.float_format = '{:,.2g}'.format\n",
        "coef_matrix_ridge"
      ],
      "execution_count": null,
      "outputs": [
        {
          "output_type": "execute_result",
          "data": {
            "text/html": [
              "<div>\n",
              "<style scoped>\n",
              "    .dataframe tbody tr th:only-of-type {\n",
              "        vertical-align: middle;\n",
              "    }\n",
              "\n",
              "    .dataframe tbody tr th {\n",
              "        vertical-align: top;\n",
              "    }\n",
              "\n",
              "    .dataframe thead th {\n",
              "        text-align: right;\n",
              "    }\n",
              "</style>\n",
              "<table border=\"1\" class=\"dataframe\">\n",
              "  <thead>\n",
              "    <tr style=\"text-align: right;\">\n",
              "      <th></th>\n",
              "      <th>rss</th>\n",
              "      <th>intercept</th>\n",
              "      <th>coef_x_1</th>\n",
              "      <th>coef_x_2</th>\n",
              "      <th>coef_x_3</th>\n",
              "      <th>coef_x_4</th>\n",
              "      <th>coef_x_5</th>\n",
              "      <th>coef_x_6</th>\n",
              "      <th>coef_x_7</th>\n",
              "      <th>coef_x_8</th>\n",
              "      <th>coef_x_9</th>\n",
              "      <th>coef_x_10</th>\n",
              "      <th>coef_x_11</th>\n",
              "      <th>coef_x_12</th>\n",
              "      <th>coef_x_13</th>\n",
              "      <th>coef_x_14</th>\n",
              "      <th>coef_x_15</th>\n",
              "    </tr>\n",
              "  </thead>\n",
              "  <tbody>\n",
              "    <tr>\n",
              "      <th>alpha_1e-15</th>\n",
              "      <td>0.87</td>\n",
              "      <td>94</td>\n",
              "      <td>-3e+02</td>\n",
              "      <td>3.8e+02</td>\n",
              "      <td>-2.4e+02</td>\n",
              "      <td>68</td>\n",
              "      <td>-1.2</td>\n",
              "      <td>-3.7</td>\n",
              "      <td>0.3</td>\n",
              "      <td>0.19</td>\n",
              "      <td>-0.021</td>\n",
              "      <td>-0.0077</td>\n",
              "      <td>0.0011</td>\n",
              "      <td>0.00025</td>\n",
              "      <td>-6.3e-05</td>\n",
              "      <td>4.6e-06</td>\n",
              "      <td>-9e-08</td>\n",
              "    </tr>\n",
              "    <tr>\n",
              "      <th>alpha_1e-10</th>\n",
              "      <td>0.92</td>\n",
              "      <td>11</td>\n",
              "      <td>-29</td>\n",
              "      <td>31</td>\n",
              "      <td>-15</td>\n",
              "      <td>2.9</td>\n",
              "      <td>0.17</td>\n",
              "      <td>-0.091</td>\n",
              "      <td>-0.011</td>\n",
              "      <td>0.002</td>\n",
              "      <td>0.00064</td>\n",
              "      <td>2.4e-05</td>\n",
              "      <td>-2e-05</td>\n",
              "      <td>-4.2e-06</td>\n",
              "      <td>2.2e-07</td>\n",
              "      <td>2.3e-07</td>\n",
              "      <td>-2.3e-08</td>\n",
              "    </tr>\n",
              "    <tr>\n",
              "      <th>alpha_1e-08</th>\n",
              "      <td>0.95</td>\n",
              "      <td>1.3</td>\n",
              "      <td>-1.5</td>\n",
              "      <td>1.7</td>\n",
              "      <td>-0.68</td>\n",
              "      <td>0.039</td>\n",
              "      <td>0.016</td>\n",
              "      <td>0.00016</td>\n",
              "      <td>-0.00036</td>\n",
              "      <td>-5.4e-05</td>\n",
              "      <td>-2.9e-07</td>\n",
              "      <td>1.1e-06</td>\n",
              "      <td>1.9e-07</td>\n",
              "      <td>2e-08</td>\n",
              "      <td>3.9e-09</td>\n",
              "      <td>8.2e-10</td>\n",
              "      <td>-4.6e-10</td>\n",
              "    </tr>\n",
              "    <tr>\n",
              "      <th>alpha_0.0001</th>\n",
              "      <td>0.96</td>\n",
              "      <td>0.56</td>\n",
              "      <td>0.55</td>\n",
              "      <td>-0.13</td>\n",
              "      <td>-0.026</td>\n",
              "      <td>-0.0028</td>\n",
              "      <td>-0.00011</td>\n",
              "      <td>4.1e-05</td>\n",
              "      <td>1.5e-05</td>\n",
              "      <td>3.7e-06</td>\n",
              "      <td>7.4e-07</td>\n",
              "      <td>1.3e-07</td>\n",
              "      <td>1.9e-08</td>\n",
              "      <td>1.9e-09</td>\n",
              "      <td>-1.3e-10</td>\n",
              "      <td>-1.5e-10</td>\n",
              "      <td>-6.2e-11</td>\n",
              "    </tr>\n",
              "    <tr>\n",
              "      <th>alpha_0.001</th>\n",
              "      <td>1</td>\n",
              "      <td>0.82</td>\n",
              "      <td>0.31</td>\n",
              "      <td>-0.087</td>\n",
              "      <td>-0.02</td>\n",
              "      <td>-0.0028</td>\n",
              "      <td>-0.00022</td>\n",
              "      <td>1.8e-05</td>\n",
              "      <td>1.2e-05</td>\n",
              "      <td>3.4e-06</td>\n",
              "      <td>7.3e-07</td>\n",
              "      <td>1.3e-07</td>\n",
              "      <td>1.9e-08</td>\n",
              "      <td>1.7e-09</td>\n",
              "      <td>-1.5e-10</td>\n",
              "      <td>-1.4e-10</td>\n",
              "      <td>-5.2e-11</td>\n",
              "    </tr>\n",
              "    <tr>\n",
              "      <th>alpha_0.01</th>\n",
              "      <td>1.4</td>\n",
              "      <td>1.3</td>\n",
              "      <td>-0.088</td>\n",
              "      <td>-0.052</td>\n",
              "      <td>-0.01</td>\n",
              "      <td>-0.0014</td>\n",
              "      <td>-0.00013</td>\n",
              "      <td>7.2e-07</td>\n",
              "      <td>4.1e-06</td>\n",
              "      <td>1.3e-06</td>\n",
              "      <td>3e-07</td>\n",
              "      <td>5.6e-08</td>\n",
              "      <td>9e-09</td>\n",
              "      <td>1.1e-09</td>\n",
              "      <td>4.3e-11</td>\n",
              "      <td>-3.1e-11</td>\n",
              "      <td>-1.5e-11</td>\n",
              "    </tr>\n",
              "    <tr>\n",
              "      <th>alpha_1</th>\n",
              "      <td>5.6</td>\n",
              "      <td>0.97</td>\n",
              "      <td>-0.14</td>\n",
              "      <td>-0.019</td>\n",
              "      <td>-0.003</td>\n",
              "      <td>-0.00047</td>\n",
              "      <td>-7e-05</td>\n",
              "      <td>-9.9e-06</td>\n",
              "      <td>-1.3e-06</td>\n",
              "      <td>-1.4e-07</td>\n",
              "      <td>-9.3e-09</td>\n",
              "      <td>1.3e-09</td>\n",
              "      <td>7.8e-10</td>\n",
              "      <td>2.4e-10</td>\n",
              "      <td>6.2e-11</td>\n",
              "      <td>1.4e-11</td>\n",
              "      <td>3.2e-12</td>\n",
              "    </tr>\n",
              "    <tr>\n",
              "      <th>alpha_5</th>\n",
              "      <td>14</td>\n",
              "      <td>0.55</td>\n",
              "      <td>-0.059</td>\n",
              "      <td>-0.0085</td>\n",
              "      <td>-0.0014</td>\n",
              "      <td>-0.00024</td>\n",
              "      <td>-4.1e-05</td>\n",
              "      <td>-6.9e-06</td>\n",
              "      <td>-1.1e-06</td>\n",
              "      <td>-1.9e-07</td>\n",
              "      <td>-3.1e-08</td>\n",
              "      <td>-5.1e-09</td>\n",
              "      <td>-8.2e-10</td>\n",
              "      <td>-1.3e-10</td>\n",
              "      <td>-2e-11</td>\n",
              "      <td>-3e-12</td>\n",
              "      <td>-4.2e-13</td>\n",
              "    </tr>\n",
              "    <tr>\n",
              "      <th>alpha_10</th>\n",
              "      <td>18</td>\n",
              "      <td>0.4</td>\n",
              "      <td>-0.037</td>\n",
              "      <td>-0.0055</td>\n",
              "      <td>-0.00095</td>\n",
              "      <td>-0.00017</td>\n",
              "      <td>-3e-05</td>\n",
              "      <td>-5.2e-06</td>\n",
              "      <td>-9.2e-07</td>\n",
              "      <td>-1.6e-07</td>\n",
              "      <td>-2.9e-08</td>\n",
              "      <td>-5.1e-09</td>\n",
              "      <td>-9.1e-10</td>\n",
              "      <td>-1.6e-10</td>\n",
              "      <td>-2.9e-11</td>\n",
              "      <td>-5.1e-12</td>\n",
              "      <td>-9.1e-13</td>\n",
              "    </tr>\n",
              "    <tr>\n",
              "      <th>alpha_20</th>\n",
              "      <td>23</td>\n",
              "      <td>0.28</td>\n",
              "      <td>-0.022</td>\n",
              "      <td>-0.0034</td>\n",
              "      <td>-0.0006</td>\n",
              "      <td>-0.00011</td>\n",
              "      <td>-2e-05</td>\n",
              "      <td>-3.6e-06</td>\n",
              "      <td>-6.6e-07</td>\n",
              "      <td>-1.2e-07</td>\n",
              "      <td>-2.2e-08</td>\n",
              "      <td>-4e-09</td>\n",
              "      <td>-7.5e-10</td>\n",
              "      <td>-1.4e-10</td>\n",
              "      <td>-2.5e-11</td>\n",
              "      <td>-4.7e-12</td>\n",
              "      <td>-8.7e-13</td>\n",
              "    </tr>\n",
              "  </tbody>\n",
              "</table>\n",
              "</div>"
            ],
            "text/plain": [
              "              rss intercept coef_x_1  ... coef_x_13 coef_x_14 coef_x_15\n",
              "alpha_1e-15  0.87        94   -3e+02  ...  -6.3e-05   4.6e-06    -9e-08\n",
              "alpha_1e-10  0.92        11      -29  ...   2.2e-07   2.3e-07  -2.3e-08\n",
              "alpha_1e-08  0.95       1.3     -1.5  ...   3.9e-09   8.2e-10  -4.6e-10\n",
              "alpha_0.0001 0.96      0.56     0.55  ...  -1.3e-10  -1.5e-10  -6.2e-11\n",
              "alpha_0.001     1      0.82     0.31  ...  -1.5e-10  -1.4e-10  -5.2e-11\n",
              "alpha_0.01    1.4       1.3   -0.088  ...   4.3e-11  -3.1e-11  -1.5e-11\n",
              "alpha_1       5.6      0.97    -0.14  ...   6.2e-11   1.4e-11   3.2e-12\n",
              "alpha_5        14      0.55   -0.059  ...    -2e-11    -3e-12  -4.2e-13\n",
              "alpha_10       18       0.4   -0.037  ...  -2.9e-11  -5.1e-12  -9.1e-13\n",
              "alpha_20       23      0.28   -0.022  ...  -2.5e-11  -4.7e-12  -8.7e-13\n",
              "\n",
              "[10 rows x 17 columns]"
            ]
          },
          "metadata": {},
          "execution_count": 8
        }
      ]
    },
    {
      "cell_type": "code",
      "metadata": {
        "colab": {
          "base_uri": "https://localhost:8080/"
        },
        "id": "y0Ky1xGrPxou",
        "outputId": "6127e607-1f63-465b-e25b-abe081b01fc5"
      },
      "source": [
        "coef_matrix_ridge.apply(lambda x: sum(x.values==0),axis=1)"
      ],
      "execution_count": null,
      "outputs": [
        {
          "output_type": "execute_result",
          "data": {
            "text/plain": [
              "alpha_1e-15     0\n",
              "alpha_1e-10     0\n",
              "alpha_1e-08     0\n",
              "alpha_0.0001    0\n",
              "alpha_0.001     0\n",
              "alpha_0.01      0\n",
              "alpha_1         0\n",
              "alpha_5         0\n",
              "alpha_10        0\n",
              "alpha_20        0\n",
              "dtype: int64"
            ]
          },
          "metadata": {},
          "execution_count": 9
        }
      ]
    },
    {
      "cell_type": "code",
      "metadata": {
        "id": "pCXBSUt8P0cg"
      },
      "source": [
        "from sklearn.linear_model import Lasso\n",
        "def lasso_regression(data, predictors, alpha, models_to_plot={}):\n",
        "    #Fit the model\n",
        "    lassoreg = Lasso(alpha=alpha,normalize=True, max_iter=1e5)\n",
        "    lassoreg.fit(data[predictors],data['y'])\n",
        "    y_pred = lassoreg.predict(data[predictors])\n",
        "    \n",
        "    #Check if a plot is to be made for the entered alpha\n",
        "    if alpha in models_to_plot:\n",
        "        plt.subplot(models_to_plot[alpha])\n",
        "        plt.tight_layout()\n",
        "        plt.plot(data['x'],y_pred)\n",
        "        plt.plot(data['x'],data['y'],'.')\n",
        "        plt.title('Plot for alpha: %.3g'%alpha)\n",
        "    \n",
        "    #Return the result in pre-defined format\n",
        "    rss = sum((y_pred-data['y'])**2)\n",
        "    ret = [rss]\n",
        "    ret.extend([lassoreg.intercept_])\n",
        "    ret.extend(lassoreg.coef_)\n",
        "    return ret"
      ],
      "execution_count": null,
      "outputs": []
    },
    {
      "cell_type": "code",
      "metadata": {
        "colab": {
          "base_uri": "https://localhost:8080/",
          "height": 415
        },
        "id": "Uuajtm90P4EO",
        "outputId": "987b5a7b-603f-4b7d-eb3e-2813a599da0a"
      },
      "source": [
        "#Initialize predictors to all 15 powers of x\n",
        "predictors=['x']\n",
        "predictors.extend(['x_%d'%i for i in range(2,16)])\n",
        "\n",
        "#Define the alpha values to test\n",
        "alpha_lasso = [1e-15, 1e-10, 1e-8, 1e-5,1e-4, 1e-3,1e-2, 1, 5, 10]\n",
        "\n",
        "#Initialize the dataframe to store coefficients\n",
        "col = ['rss','intercept'] + ['coef_x_%d'%i for i in range(1,16)]\n",
        "ind = ['alpha_%.2g'%alpha_lasso[i] for i in range(0,10)]\n",
        "coef_matrix_lasso = pd.DataFrame(index=ind, columns=col)\n",
        "\n",
        "#Define the models to plot\n",
        "models_to_plot = {1e-10:231, 1e-5:232,1e-4:233, 1e-3:234, 1e-2:235, 1:236}\n",
        "\n",
        "#Iterate over the 10 alpha values:\n",
        "for i in range(10):\n",
        "    coef_matrix_lasso.iloc[i,] = lasso_regression(data, predictors, alpha_lasso[i], models_to_plot)\n",
        "# This gives us the following plots:\n"
      ],
      "execution_count": null,
      "outputs": [
        {
          "output_type": "stream",
          "name": "stderr",
          "text": [
            "/usr/local/lib/python3.7/dist-packages/sklearn/linear_model/_coordinate_descent.py:476: ConvergenceWarning: Objective did not converge. You might want to increase the number of iterations. Duality gap: 0.47835738259036853, tolerance: 0.00369480384218441\n",
            "  positive)\n",
            "/usr/local/lib/python3.7/dist-packages/sklearn/linear_model/_coordinate_descent.py:476: ConvergenceWarning: Objective did not converge. You might want to increase the number of iterations. Duality gap: 0.4782818399057239, tolerance: 0.00369480384218441\n",
            "  positive)\n",
            "/usr/local/lib/python3.7/dist-packages/sklearn/linear_model/_coordinate_descent.py:476: ConvergenceWarning: Objective did not converge. You might want to increase the number of iterations. Duality gap: 0.47079330190410706, tolerance: 0.00369480384218441\n",
            "  positive)\n"
          ]
        },
        {
          "output_type": "display_data",
          "data": {
            "image/png": "[encoded data removed]",
            "text/plain": [
              "<Figure size 432x288 with 6 Axes>"
            ]
          },
          "metadata": {
            "needs_background": "light"
          }
        }
      ]
    },
    {
      "cell_type": "code",
      "metadata": {
        "colab": {
          "base_uri": "https://localhost:8080/"
        },
        "id": "GfYwx03nP6iz",
        "outputId": "c2710a32-d6d7-442d-ca75-3041e02ff7cf"
      },
      "source": [
        "coef_matrix_lasso.apply(lambda x: sum(x.values==0),axis=1)"
      ],
      "execution_count": null,
      "outputs": [
        {
          "output_type": "execute_result",
          "data": {
            "text/plain": [
              "alpha_1e-15      0\n",
              "alpha_1e-10      0\n",
              "alpha_1e-08      0\n",
              "alpha_1e-05      8\n",
              "alpha_0.0001    10\n",
              "alpha_0.001     12\n",
              "alpha_0.01      13\n",
              "alpha_1         15\n",
              "alpha_5         15\n",
              "alpha_10        15\n",
              "dtype: int64"
            ]
          },
          "metadata": {},
          "execution_count": 12
        }
      ]
    }
  ]
}